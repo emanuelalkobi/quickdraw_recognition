{
 "cells": [
  {
   "cell_type": "code",
   "execution_count": 1,
   "metadata": {},
   "outputs": [],
   "source": [
    "import os\n",
    "import glob\n",
    "import numpy as np\n",
    "from tensorflow.keras import layers\n",
    "from tensorflow import keras \n",
    "import tensorflow as tf"
   ]
  },
  {
   "cell_type": "code",
   "execution_count": 2,
   "metadata": {},
   "outputs": [],
   "source": [
    "class cnn:\n",
    "    def __init__(self):\n",
    "        self.batch_size = 128\n",
    "        self.dir_data='data/'\n",
    "        self.num_of_classes,self.dict =create_dic(self.dir_data)\n",
    "        self.image_size = 28\n",
    "        self.validate_data = 10000"
   ]
  },
  {
   "cell_type": "code",
   "execution_count": 3,
   "metadata": {},
   "outputs": [],
   "source": [
    "with open('mini_classes.txt','w') as f:\n",
    "    for file in sorted(os.listdir('data/')):\n",
    "        if file.endswith(\".npy\"):\n",
    "            print(file.split(\".\")[0], file = f)\n",
    "f = open(\"mini_classes.txt\",\"r\")\n",
    "# And for reading use\n",
    "classes = f.readlines()\n",
    "f.close()\n",
    "classes = [c.replace('\\n','').replace(' ','_') for c in classes]"
   ]
  },
  {
   "cell_type": "code",
   "execution_count": 4,
   "metadata": {},
   "outputs": [
    {
     "data": {
      "text/plain": [
       "['ambulance',\n",
       " 'apple',\n",
       " 'axe',\n",
       " 'basketball',\n",
       " 'bicycle',\n",
       " 'boomerang',\n",
       " 'butterfly',\n",
       " 'car',\n",
       " 'carrot',\n",
       " 'cat',\n",
       " 'chair',\n",
       " 'clock',\n",
       " 'cookie',\n",
       " 'cup',\n",
       " 'donut',\n",
       " 'envelope',\n",
       " 'flower',\n",
       " 'key',\n",
       " 'knife',\n",
       " 'lightning',\n",
       " 'pencil',\n",
       " 'pizza',\n",
       " 'rainbow',\n",
       " 'snake',\n",
       " 'spider',\n",
       " 'star',\n",
       " 'tractor',\n",
       " 'tree',\n",
       " 'whale',\n",
       " 'windmill']"
      ]
     },
     "execution_count": 4,
     "metadata": {},
     "output_type": "execute_result"
    }
   ],
   "source": [
    "classes"
   ]
  },
  {
   "cell_type": "code",
   "execution_count": 5,
   "metadata": {},
   "outputs": [],
   "source": [
    "def create_dic(dir_data):\n",
    "    dict={}\n",
    "    i=0\n",
    "    for file in sorted(os.listdir(dir_data)):\n",
    "        if file.endswith(\".npy\"):\n",
    "            str=file.split(\".\")\n",
    "            dict[i]=str[0]\n",
    "            i=i+1\n",
    "    return i,dict"
   ]
  },
  {
   "cell_type": "code",
   "execution_count": 6,
   "metadata": {},
   "outputs": [],
   "source": [
    "def load_data(cnn):\n",
    "    dir_data='data/'\n",
    "    num_of_classess,dict=create_dic(dir_data)\n",
    "    data_l=np.zeros((1))\n",
    "    data_d=np.zeros((1,cnn.image_size*cnn.image_size))\n",
    "    index=0\n",
    "    class_names = []\n",
    "    for file in sorted(os.listdir(dir_data)):\n",
    "        if file.endswith(\".npy\"):\n",
    "            print(data_l.shape,data_d.shape,\"cur label num!\",index+1,file)\n",
    "            curr_data=np.load(dir_data+file)\n",
    "            data_size=curr_data.shape\n",
    "            #take only 30 percent of the data\n",
    "            part_data=int(0.3*(data_size[0]))\n",
    "            curr_data=curr_data[1:part_data,:]\n",
    "            \n",
    "\n",
    "            #change to white background\n",
    "            curr_data=255-curr_data;\n",
    "            data_d=np.concatenate((data_d,curr_data), axis=0)\n",
    "            data_l=np.concatenate((data_l,np.ones(curr_data.shape[0])*index))\n",
    "            index=index+1\n",
    "            class_names.append(file.split('.')[0])\n",
    "\n",
    "    data_l=np.expand_dims(data_l,1)\n",
    "    data_all=np.concatenate((data_d,data_l),axis=1)\n",
    "    data_all=np.random.permutation(data_all)\n",
    "\n",
    "    x_data=data_all[:,0:-1]\n",
    "    y_data=data_all[:,-1]\n",
    "    num_img=x_data.shape[0]\n",
    "    data_img=np.reshape(x_data,[num_img,cnn.image_size,cnn.image_size])\n",
    "\n",
    "\n",
    "    data_train=data_img[cnn.validate_data:,:,:]\n",
    "    data_train=np.expand_dims(data_train,3)\n",
    "\n",
    "    labels_train=y_data[cnn.validate_data:]\n",
    "    data_test=data_img[:cnn.validate_data:,:,:]\n",
    "    data_test=np.expand_dims(data_test,3)\n",
    "\n",
    "    labels_test=y_data[:cnn.validate_data]\n",
    "\n",
    "\n",
    "    return data_train,labels_train,data_test,labels_test,class_names"
   ]
  },
  {
   "cell_type": "code",
   "execution_count": 7,
   "metadata": {},
   "outputs": [
    {
     "name": "stdout",
     "output_type": "stream",
     "text": [
      "(1,) (1, 784) cur label num! 1 ambulance.npy\n",
      "(44401,) (44401, 784) cur label num! 2 apple.npy\n",
      "(87816,) (87816, 784) cur label num! 3 axe.npy\n",
      "(125051,) (125051, 784) cur label num! 4 basketball.npy\n",
      "(165187,) (165187, 784) cur label num! 5 bicycle.npy\n",
      "(203144,) (203144, 784) cur label num! 6 boomerang.npy\n",
      "(245947,) (245947, 784) cur label num! 7 butterfly.npy\n",
      "(281345,) (281345, 784) cur label num! 8 car.npy\n",
      "(336173,) (336173, 784) cur label num! 9 carrot.npy\n",
      "(375909,) (375909, 784) cur label num! 10 cat.npy\n",
      "(412868,) (412868, 784) cur label num! 11 chair.npy\n",
      "(479678,) (479678, 784) cur label num! 12 clock.npy\n",
      "(515837,) (515837, 784) cur label num! 13 cookie.npy\n",
      "(555241,) (555241, 784) cur label num! 14 cup.npy\n",
      "(594456,) (594456, 784) cur label num! 15 donut.npy\n",
      "(636680,) (636680, 784) cur label num! 16 envelope.npy\n",
      "(677137,) (677137, 784) cur label num! 17 flower.npy\n",
      "(720581,) (720581, 784) cur label num! 18 key.npy\n",
      "(768869,) (768869, 784) cur label num! 19 knife.npy\n",
      "(820664,) (820664, 784) cur label num! 20 lightning.npy\n",
      "(866131,) (866131, 784) cur label num! 21 pencil.npy\n",
      "(902730,) (902730, 784) cur label num! 22 pizza.npy\n",
      "(941840,) (941840, 784) cur label num! 23 rainbow.npy\n",
      "(979892,) (979892, 784) cur label num! 24 snake.npy\n",
      "(1016572,) (1016572, 784) cur label num! 25 spider.npy\n",
      "(1079405,) (1079405, 784) cur label num! 26 star.npy\n",
      "(1120689,) (1120689, 784) cur label num! 27 tractor.npy\n",
      "(1155691,) (1155691, 784) cur label num! 28 tree.npy\n",
      "(1199106,) (1199106, 784) cur label num! 29 whale.npy\n",
      "(1234055,) (1234055, 784) cur label num! 30 windmill.npy\n"
     ]
    }
   ],
   "source": [
    "quick_draw_cnn=cnn()\n",
    "x_train, y_train, x_test, y_test, class_names = load_data(quick_draw_cnn)\n",
    "num_classes = len(class_names)"
   ]
  },
  {
   "cell_type": "code",
   "execution_count": 9,
   "metadata": {},
   "outputs": [
    {
     "name": "stdout",
     "output_type": "stream",
     "text": [
      "car\n"
     ]
    },
    {
     "data": {
      "image/png": "[encoded data removed]",
      "text/plain": [
       "<matplotlib.figure.Figure at 0x2b4d6b390518>"
      ]
     },
     "metadata": {},
     "output_type": "display_data"
    }
   ],
   "source": [
    "import matplotlib.pyplot as plt\n",
    "from random import randint\n",
    "%matplotlib inline  \n",
    "idx = randint(0, len(x_train))\n",
    "plt.imshow(x_train[idx].reshape(28,28)) \n",
    "print(class_names[int(y_train[idx].item())])"
   ]
  },
  {
   "cell_type": "code",
   "execution_count": 10,
   "metadata": {},
   "outputs": [],
   "source": [
    "x_train = x_train.reshape(x_train.shape[0], quick_draw_cnn.image_size, quick_draw_cnn.image_size, 1).astype('float32')\n",
    "x_test = x_test.reshape(x_test.shape[0], quick_draw_cnn.image_size, quick_draw_cnn.image_size, 1).astype('float32')\n",
    "\n",
    "x_train /= 255.0\n",
    "x_test /= 255.0\n",
    "\n",
    "# Convert class vectors to class matrices\n",
    "y_train = keras.utils.to_categorical(y_train, num_classes)\n",
    "y_test = keras.utils.to_categorical(y_test, num_classes)"
   ]
  },
  {
   "cell_type": "code",
   "execution_count": 11,
   "metadata": {},
   "outputs": [
    {
     "name": "stdout",
     "output_type": "stream",
     "text": [
      "_________________________________________________________________\n",
      "Layer (type)                 Output Shape              Param #   \n",
      "=================================================================\n",
      "conv2d (Conv2D)              (None, 28, 28, 32)        832       \n",
      "_________________________________________________________________\n",
      "max_pooling2d (MaxPooling2D) (None, 14, 14, 32)        0         \n",
      "_________________________________________________________________\n",
      "conv2d_1 (Conv2D)            (None, 14, 14, 32)        25632     \n",
      "_________________________________________________________________\n",
      "max_pooling2d_1 (MaxPooling2 (None, 7, 7, 32)          0         \n",
      "_________________________________________________________________\n",
      "conv2d_2 (Conv2D)            (None, 7, 7, 32)          25632     \n",
      "_________________________________________________________________\n",
      "max_pooling2d_2 (MaxPooling2 (None, 3, 3, 32)          0         \n",
      "_________________________________________________________________\n",
      "conv2d_3 (Conv2D)            (None, 3, 3, 32)          25632     \n",
      "_________________________________________________________________\n",
      "max_pooling2d_3 (MaxPooling2 (None, 1, 1, 32)          0         \n",
      "_________________________________________________________________\n",
      "flatten (Flatten)            (None, 32)                0         \n",
      "_________________________________________________________________\n",
      "dense (Dense)                (None, 500)               16500     \n",
      "_________________________________________________________________\n",
      "dense_1 (Dense)              (None, 30)                15030     \n",
      "=================================================================\n",
      "Total params: 109,258\n",
      "Trainable params: 109,258\n",
      "Non-trainable params: 0\n",
      "_________________________________________________________________\n",
      "None\n"
     ]
    }
   ],
   "source": [
    "# Define model\n",
    "model = keras.Sequential()\n",
    "model.add(layers.Convolution2D(filters=32, kernel_size=[5,5], padding='same',input_shape=x_train.shape[1:], activation='relu'))\n",
    "model.add(layers.MaxPooling2D(pool_size=(2, 2), strides=2))\n",
    "\n",
    "model.add(layers.Convolution2D(filters=32, kernel_size=[5,5],padding='same', activation= 'relu'))\n",
    "model.add(layers.MaxPooling2D(pool_size=(2, 2), strides=2))\n",
    "\n",
    "model.add(layers.Convolution2D(filters=32, kernel_size=[5,5],padding='same', activation= 'relu'))\n",
    "model.add(layers.MaxPooling2D(pool_size=(2, 2), strides=2))\n",
    "\n",
    "model.add(layers.Convolution2D(filters=32, kernel_size=[5,5],padding='same', activation= 'relu'))\n",
    "model.add(layers.MaxPooling2D(pool_size=(2, 2), strides=2))\n",
    "\n",
    "model.add(layers.Flatten())\n",
    "model.add(layers.Dense(units=500, activation='relu'))\n",
    "model.add(layers.Dense(units=num_classes, activation='softmax')) \n",
    "# Train model\n",
    "adam = tf.train.AdamOptimizer()\n",
    "model.compile(loss='categorical_crossentropy',\n",
    "              optimizer=adam,\n",
    "              metrics=['top_k_categorical_accuracy'])\n",
    "print(model.summary())"
   ]
  },
  {
   "cell_type": "code",
   "execution_count": 13,
   "metadata": {},
   "outputs": [
    {
     "name": "stdout",
     "output_type": "stream",
     "text": [
      "Train on 1260247 samples, validate on 10000 samples\n",
      "Epoch 1/10\n",
      "1260247/1260247 [==============================] - 42s 34us/step - loss: 0.3436 - top_k_categorical_accuracy: 0.9779 - val_loss: 0.3506 - val_top_k_categorical_accuracy: 0.9771\n",
      "Epoch 2/10\n",
      "1260247/1260247 [==============================] - 42s 34us/step - loss: 0.3225 - top_k_categorical_accuracy: 0.9792 - val_loss: 0.3391 - val_top_k_categorical_accuracy: 0.9792\n",
      "Epoch 3/10\n",
      "1260247/1260247 [==============================] - 43s 34us/step - loss: 0.3104 - top_k_categorical_accuracy: 0.9800 - val_loss: 0.3174 - val_top_k_categorical_accuracy: 0.9786\n",
      "Epoch 4/10\n",
      "1260247/1260247 [==============================] - 42s 34us/step - loss: 0.3013 - top_k_categorical_accuracy: 0.9806 - val_loss: 0.3287 - val_top_k_categorical_accuracy: 0.9780\n",
      "Epoch 5/10\n",
      "1260247/1260247 [==============================] - 42s 34us/step - loss: 0.2953 - top_k_categorical_accuracy: 0.9809 - val_loss: 0.3067 - val_top_k_categorical_accuracy: 0.9787\n",
      "Epoch 6/10\n",
      "1260247/1260247 [==============================] - 42s 34us/step - loss: 0.2910 - top_k_categorical_accuracy: 0.9812 - val_loss: 0.3242 - val_top_k_categorical_accuracy: 0.9766\n",
      "Epoch 7/10\n",
      "1260247/1260247 [==============================] - 42s 34us/step - loss: 0.2874 - top_k_categorical_accuracy: 0.9813 - val_loss: 0.3210 - val_top_k_categorical_accuracy: 0.9782\n",
      "Epoch 8/10\n",
      "1260247/1260247 [==============================] - 42s 34us/step - loss: 0.2849 - top_k_categorical_accuracy: 0.9815 - val_loss: 0.3225 - val_top_k_categorical_accuracy: 0.9780\n",
      "Epoch 9/10\n",
      "1260247/1260247 [==============================] - 42s 34us/step - loss: 0.2820 - top_k_categorical_accuracy: 0.9817 - val_loss: 0.3135 - val_top_k_categorical_accuracy: 0.9782\n",
      "Epoch 10/10\n",
      "1260247/1260247 [==============================] - 43s 34us/step - loss: 0.2794 - top_k_categorical_accuracy: 0.9818 - val_loss: 0.3085 - val_top_k_categorical_accuracy: 0.9792\n",
      "10000/10000 [==============================] - 0s 15us/step\n",
      "Test accuracy: 0.9792\n"
     ]
    }
   ],
   "source": [
    "model.fit(x = x_train, y = y_train, validation_data=(x_test, y_test), batch_size=quick_draw_cnn.batch_size, epochs=10)\n",
    "acc = model.evaluate(x_test, y_test,batch_size=quick_draw_cnn.batch_size)\n",
    "print('Test accuracy:', acc[1])"
   ]
  },
  {
   "cell_type": "code",
   "execution_count": 22,
   "metadata": {},
   "outputs": [
    {
     "name": "stdout",
     "output_type": "stream",
     "text": [
      "['lightning', 'axe', 'boomerang', 'star', 'rainbow']\n"
     ]
    },
    {
     "data": {
      "image/png": "[encoded data removed]",
      "text/plain": [
       "<matplotlib.figure.Figure at 0x2b4e689a42e8>"
      ]
     },
     "metadata": {},
     "output_type": "display_data"
    }
   ],
   "source": [
    "import matplotlib.pyplot as plt\n",
    "from random import randint\n",
    "%matplotlib inline  \n",
    "idx = randint(0, len(x_test))\n",
    "img = x_test[idx]\n",
    "plt.imshow(img.squeeze()) \n",
    "pred = model.predict(np.expand_dims(img, axis=0))[0]\n",
    "ind = (-pred).argsort()[:5]\n",
    "latex = [class_names[x] for x in ind]\n",
    "print(latex)"
   ]
  },
  {
   "cell_type": "code",
   "execution_count": 23,
   "metadata": {},
   "outputs": [],
   "source": [
    "with open('class_names.txt', 'w') as file_handler:\n",
    "    for item in class_names:\n",
    "        file_handler.write(\"{}\\n\".format(item))"
   ]
  },
  {
   "cell_type": "code",
   "execution_count": 24,
   "metadata": {},
   "outputs": [
    {
     "name": "stdout",
     "output_type": "stream",
     "text": [
      "WARNING:tensorflow:TensorFlow optimizers do not make it possible to access optimizer attributes or optimizer state after instantiation. As a result, we cannot save the optimizer as part of the model save file.You will have to compile your model again after loading it. Prefer using a Keras optimizer instead (see keras.io/optimizers).\n"
     ]
    }
   ],
   "source": [
    "model.save('keras.h5')"
   ]
  },
  {
   "cell_type": "code",
   "execution_count": 26,
   "metadata": {},
   "outputs": [
    {
     "name": "stdout",
     "output_type": "stream",
     "text": [
      "Collecting pip\n",
      "  Using cached https://files.pythonhosted.org/packages/c2/d7/90f34cb0d83a6c5631cf71dfe64cc1054598c843a92b400e55675cc2ac37/pip-18.1-py2.py3-none-any.whl\n",
      "Installing collected packages: pip\n",
      "  Found existing installation: pip 18.0\n",
      "    Uninstalling pip-18.0:\n",
      "\u001b[31mCould not install packages due to an EnvironmentError: [Errno 13] Permission denied: '/share/pkg/python/3.6.2/install/bin/pip'\n",
      "Consider using the `--user` option or check the permissions.\n",
      "\u001b[0m\n",
      "\u001b[33mYou are using pip version 18.0, however version 18.1 is available.\n",
      "You should consider upgrading via the 'pip install --upgrade pip' command.\u001b[0m\n"
     ]
    }
   ],
   "source": [
    "!pip install --upgrade pip"
   ]
  },
  {
   "cell_type": "code",
   "execution_count": 40,
   "metadata": {},
   "outputs": [
    {
     "name": "stdout",
     "output_type": "stream",
     "text": [
      "Using TensorFlow backend.\r\n"
     ]
    }
   ],
   "source": [
    "!tensorflowjs_converter --input_format keras keras.h5 model/"
   ]
  },
  {
   "cell_type": "code",
   "execution_count": null,
   "metadata": {},
   "outputs": [],
   "source": []
  }
 ],
 "metadata": {
  "kernelspec": {
   "display_name": "Python 3",
   "language": "python",
   "name": "python3"
  },
  "language_info": {
   "codemirror_mode": {
    "name": "ipython",
    "version": 3
   },
   "file_extension": ".py",
   "mimetype": "text/x-python",
   "name": "python",
   "nbconvert_exporter": "python",
   "pygments_lexer": "ipython3",
   "version": "3.6.2"
  }
 },
 "nbformat": 4,
 "nbformat_minor": 2
}
