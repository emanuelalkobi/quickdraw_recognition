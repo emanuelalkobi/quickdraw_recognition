{
 "cells": [
  {
   "cell_type": "markdown",
   "metadata": {},
   "source": [
    "# LSTM"
   ]
  },
  {
   "cell_type": "code",
   "execution_count": 1,
   "metadata": {},
   "outputs": [
    {
     "name": "stderr",
     "output_type": "stream",
     "text": [
      "Using TensorFlow backend.\n"
     ]
    }
   ],
   "source": [
    "import os\n",
    "import glob\n",
    "import numpy as np\n",
    "import keras\n",
    "from keras import *\n",
    "import tensorflow as tf\n",
    "\n",
    "import numpy\n",
    "from keras.datasets import imdb\n",
    "from keras.models import Sequential\n",
    "from keras.layers import Dense\n",
    "from keras.layers import LSTM\n",
    "from keras.layers.embeddings import Embedding\n",
    "from keras.preprocessing import sequence\n",
    "# fix random seed for reproducibility\n",
    "numpy.random.seed(7)"
   ]
  },
  {
   "cell_type": "code",
   "execution_count": 3,
   "metadata": {},
   "outputs": [],
   "source": [
    "def load_data(vfold_ratio=0.2, max_items_per_class= 5000 ):\n",
    "    all_files = glob.glob(os.path.join(\"./data/\", '*.npy'))\n",
    "\n",
    "    #initialize variables \n",
    "    x = np.empty([0, 784])\n",
    "    y = np.empty([0])\n",
    "    class_names = []\n",
    "\n",
    "    #load a subset of the data to memory \n",
    "    for idx, file in enumerate(all_files):\n",
    "        data = np.load(file)\n",
    "        data = data[0: max_items_per_class, :]\n",
    "        labels = np.full(data.shape[0], idx)\n",
    "\n",
    "        x = np.concatenate((x, data), axis=0)\n",
    "        y = np.append(y, labels)\n",
    "\n",
    "    \n",
    "        class_name, ext = os.path.splitext(os.path.basename(file))\n",
    "        class_names.append(class_name)\n",
    "\n",
    "\n",
    "    data = None\n",
    "    labels = None\n",
    "\n",
    "    #separate into training and testing \n",
    "    permutation = np.random.permutation(y.shape[0])\n",
    "    x = x[permutation, :]\n",
    "    y = y[permutation]\n",
    "\n",
    "    vfold_size = int(x.shape[0]/100*(vfold_ratio*100))\n",
    "\n",
    "    x_test = x[0:vfold_size, :]\n",
    "    y_test = y[0:vfold_size]\n",
    "\n",
    "    x_train = x[vfold_size:x.shape[0], :]\n",
    "    y_train = y[vfold_size:y.shape[0]]\n",
    "    \n",
    "#     print(x_train)\n",
    "    return x_train, y_train, x_test, y_test, class_names"
   ]
  },
  {
   "cell_type": "code",
   "execution_count": 4,
   "metadata": {},
   "outputs": [],
   "source": [
    "Xtrain, Ytrain, Xtest, Ytest, class_names = load_data()\n",
    "num_classes = len(class_names)\n",
    "image_size = 28"
   ]
  },
  {
   "cell_type": "code",
   "execution_count": 5,
   "metadata": {},
   "outputs": [
    {
     "name": "stdout",
     "output_type": "stream",
     "text": [
      "snake\n"
     ]
    },
    {
     "data": {
      "image/png": "[encoded data removed]",
      "text/plain": [
       "<matplotlib.figure.Figure at 0x2abf40f5cac8>"
      ]
     },
     "metadata": {},
     "output_type": "display_data"
    }
   ],
   "source": [
    "import matplotlib.pyplot as plt\n",
    "from random import randint\n",
    "%matplotlib inline  \n",
    "idx = randint(0, len(Xtrain))\n",
    "plt.imshow(Xtrain[idx].reshape(28,28)) \n",
    "print(class_names[int(Ytrain[idx].item())])"
   ]
  },
  {
   "cell_type": "code",
   "execution_count": 6,
   "metadata": {},
   "outputs": [],
   "source": [
    "# Reshape and normalize\n",
    "x_train = Xtrain.reshape(Xtrain.shape[0], image_size, image_size).astype('float32')\n",
    "x_test = Xtest.reshape(Xtest.shape[0], image_size, image_size).astype('float32')\n",
    "\n",
    "x_train /= 255.0\n",
    "x_test /= 255.0\n",
    "\n",
    "# Convert class vectors to class matrices\n",
    "y_train = keras.utils.to_categorical(Ytrain, num_classes)\n",
    "y_test = keras.utils.to_categorical(Ytest, num_classes)"
   ]
  },
  {
   "cell_type": "code",
   "execution_count": 7,
   "metadata": {},
   "outputs": [],
   "source": [
    "x_train = np.array(Xtrain).reshape((-1, 28, 28))\n",
    "x_test = np.array(Xtest).reshape((-1, 28, 28))"
   ]
  },
  {
   "cell_type": "code",
   "execution_count": 8,
   "metadata": {},
   "outputs": [
    {
     "name": "stdout",
     "output_type": "stream",
     "text": [
      "WARNING:tensorflow:From /share/pkg/python/3.6.2/install/lib/python3.6/site-packages/keras/backend/tensorflow_backend.py:1188: calling reduce_sum (from tensorflow.python.ops.math_ops) with keep_dims is deprecated and will be removed in a future version.\n",
      "Instructions for updating:\n",
      "keep_dims is deprecated, use keepdims instead\n",
      "WARNING:tensorflow:From /share/pkg/python/3.6.2/install/lib/python3.6/site-packages/keras/backend/tensorflow_backend.py:1290: calling reduce_mean (from tensorflow.python.ops.math_ops) with keep_dims is deprecated and will be removed in a future version.\n",
      "Instructions for updating:\n",
      "keep_dims is deprecated, use keepdims instead\n",
      "_________________________________________________________________\n",
      "Layer (type)                 Output Shape              Param #   \n",
      "=================================================================\n",
      "lstm_1 (LSTM)                (None, 256)               291840    \n",
      "_________________________________________________________________\n",
      "dense_1 (Dense)              (None, 30)                7710      \n",
      "=================================================================\n",
      "Total params: 299,550\n",
      "Trainable params: 299,550\n",
      "Non-trainable params: 0\n",
      "_________________________________________________________________\n",
      "None\n"
     ]
    }
   ],
   "source": [
    "model = Sequential()\n",
    "model.add(LSTM(256, input_shape=(x_train.shape[1], x_train.shape[2])))\n",
    "model.add(Dense(30,activation='sigmoid'))\n",
    "model.compile(loss='categorical_crossentropy', optimizer='adam', metrics=['accuracy'])\n",
    "print(model.summary())"
   ]
  },
  {
   "cell_type": "code",
   "execution_count": 9,
   "metadata": {},
   "outputs": [
    {
     "name": "stdout",
     "output_type": "stream",
     "text": [
      "Train on 120000 samples, validate on 30000 samples\n",
      "Epoch 1/50\n",
      "18s - loss: 1.8460 - acc: 0.4585 - val_loss: 1.4335 - val_acc: 0.5760\n",
      "Epoch 2/50\n",
      "15s - loss: 1.2998 - acc: 0.6109 - val_loss: 1.2463 - val_acc: 0.6276\n",
      "Epoch 3/50\n",
      "15s - loss: 1.1530 - acc: 0.6564 - val_loss: 1.1627 - val_acc: 0.6564\n",
      "Epoch 4/50\n",
      "15s - loss: 1.0677 - acc: 0.6814 - val_loss: 1.0956 - val_acc: 0.6735\n",
      "Epoch 5/50\n",
      "15s - loss: 1.0070 - acc: 0.6988 - val_loss: 1.0654 - val_acc: 0.6825\n",
      "Epoch 6/50\n",
      "15s - loss: 0.9642 - acc: 0.7116 - val_loss: 1.0262 - val_acc: 0.6957\n",
      "Epoch 7/50\n",
      "15s - loss: 0.9187 - acc: 0.7250 - val_loss: 1.0124 - val_acc: 0.6969\n",
      "Epoch 8/50\n",
      "15s - loss: 0.8865 - acc: 0.7330 - val_loss: 0.9911 - val_acc: 0.7056\n",
      "Epoch 9/50\n",
      "16s - loss: 0.8537 - acc: 0.7419 - val_loss: 0.9828 - val_acc: 0.7070\n",
      "Epoch 10/50\n",
      "15s - loss: 0.8263 - acc: 0.7507 - val_loss: 0.9707 - val_acc: 0.7150\n",
      "Epoch 11/50\n",
      "16s - loss: 0.7972 - acc: 0.7595 - val_loss: 0.9570 - val_acc: 0.7175\n",
      "Epoch 12/50\n",
      "15s - loss: 0.7728 - acc: 0.7661 - val_loss: 0.9553 - val_acc: 0.7146\n",
      "Epoch 13/50\n",
      "16s - loss: 0.7561 - acc: 0.7706 - val_loss: 0.9501 - val_acc: 0.7219\n",
      "Epoch 14/50\n",
      "15s - loss: 0.7312 - acc: 0.7783 - val_loss: 0.9481 - val_acc: 0.7215\n",
      "Epoch 15/50\n",
      "15s - loss: 0.7145 - acc: 0.7814 - val_loss: 0.9448 - val_acc: 0.7245\n",
      "Epoch 16/50\n",
      "16s - loss: 0.6960 - acc: 0.7869 - val_loss: 0.9373 - val_acc: 0.7279\n",
      "Epoch 17/50\n",
      "15s - loss: 0.6727 - acc: 0.7929 - val_loss: 0.9475 - val_acc: 0.7252\n",
      "Epoch 18/50\n",
      "15s - loss: 0.6574 - acc: 0.7974 - val_loss: 0.9420 - val_acc: 0.7264\n",
      "Epoch 19/50\n",
      "16s - loss: 0.6378 - acc: 0.8025 - val_loss: 0.9369 - val_acc: 0.7303\n",
      "Epoch 20/50\n",
      "15s - loss: 0.6296 - acc: 0.8062 - val_loss: 0.9497 - val_acc: 0.7287\n",
      "Epoch 21/50\n",
      "16s - loss: 0.6144 - acc: 0.8095 - val_loss: 0.9453 - val_acc: 0.7299\n",
      "Epoch 22/50\n",
      "15s - loss: 0.6031 - acc: 0.8123 - val_loss: 0.9468 - val_acc: 0.7301\n",
      "Epoch 23/50\n",
      "16s - loss: 0.5873 - acc: 0.8170 - val_loss: 0.9523 - val_acc: 0.7269\n",
      "Epoch 24/50\n",
      "16s - loss: 0.5730 - acc: 0.8213 - val_loss: 0.9556 - val_acc: 0.7321\n",
      "Epoch 25/50\n",
      "15s - loss: 0.5579 - acc: 0.8256 - val_loss: 0.9618 - val_acc: 0.7329\n",
      "Epoch 26/50\n",
      "15s - loss: 0.5484 - acc: 0.8283 - val_loss: 0.9712 - val_acc: 0.7297\n",
      "Epoch 27/50\n",
      "16s - loss: 0.5285 - acc: 0.8339 - val_loss: 0.9802 - val_acc: 0.7273\n",
      "Epoch 28/50\n",
      "15s - loss: 0.5235 - acc: 0.8346 - val_loss: 0.9822 - val_acc: 0.7311\n",
      "Epoch 29/50\n",
      "16s - loss: 0.5064 - acc: 0.8404 - val_loss: 0.9808 - val_acc: 0.7297\n",
      "Epoch 30/50\n",
      "15s - loss: 0.4959 - acc: 0.8432 - val_loss: 0.9942 - val_acc: 0.7268\n",
      "Epoch 31/50\n",
      "15s - loss: 0.4855 - acc: 0.8453 - val_loss: 1.0031 - val_acc: 0.7246\n",
      "Epoch 32/50\n",
      "15s - loss: 0.4813 - acc: 0.8470 - val_loss: 0.9969 - val_acc: 0.7304\n",
      "Epoch 33/50\n",
      "15s - loss: 0.4685 - acc: 0.8511 - val_loss: 1.0144 - val_acc: 0.7289\n",
      "Epoch 34/50\n",
      "16s - loss: 0.4532 - acc: 0.8555 - val_loss: 1.0176 - val_acc: 0.7291\n",
      "Epoch 35/50\n",
      "15s - loss: 0.4426 - acc: 0.8581 - val_loss: 1.0267 - val_acc: 0.7267\n",
      "Epoch 36/50\n",
      "16s - loss: 0.4328 - acc: 0.8611 - val_loss: 1.0297 - val_acc: 0.7296\n",
      "Epoch 37/50\n",
      "15s - loss: 0.4235 - acc: 0.8639 - val_loss: 1.0444 - val_acc: 0.7281\n",
      "Epoch 38/50\n",
      "15s - loss: 0.4116 - acc: 0.8672 - val_loss: 1.0455 - val_acc: 0.7276\n",
      "Epoch 39/50\n",
      "15s - loss: 0.4035 - acc: 0.8700 - val_loss: 1.0612 - val_acc: 0.7271\n",
      "Epoch 40/50\n",
      "16s - loss: 0.3987 - acc: 0.8713 - val_loss: 1.0728 - val_acc: 0.7279\n",
      "Epoch 41/50\n",
      "16s - loss: 0.3898 - acc: 0.8735 - val_loss: 1.0862 - val_acc: 0.7207\n",
      "Epoch 42/50\n",
      "16s - loss: 0.3810 - acc: 0.8759 - val_loss: 1.0947 - val_acc: 0.7249\n",
      "Epoch 43/50\n",
      "16s - loss: 0.3829 - acc: 0.8750 - val_loss: 1.1162 - val_acc: 0.7187\n",
      "Epoch 44/50\n",
      "16s - loss: 0.3785 - acc: 0.8759 - val_loss: 1.1095 - val_acc: 0.7199\n",
      "Epoch 45/50\n",
      "16s - loss: 0.3657 - acc: 0.8805 - val_loss: 1.1039 - val_acc: 0.7242\n",
      "Epoch 46/50\n",
      "16s - loss: 0.3506 - acc: 0.8858 - val_loss: 1.1177 - val_acc: 0.7243\n",
      "Epoch 47/50\n",
      "15s - loss: 0.3480 - acc: 0.8867 - val_loss: 1.1157 - val_acc: 0.7239\n",
      "Epoch 48/50\n",
      "16s - loss: 0.3476 - acc: 0.8861 - val_loss: 1.1273 - val_acc: 0.7255\n",
      "Epoch 49/50\n",
      "15s - loss: 0.3426 - acc: 0.8875 - val_loss: 1.1406 - val_acc: 0.7203\n",
      "Epoch 50/50\n",
      "15s - loss: 0.3258 - acc: 0.8941 - val_loss: 1.1546 - val_acc: 0.7225\n"
     ]
    },
    {
     "data": {
      "text/plain": [
       "<keras.callbacks.History at 0x2abf40f54828>"
      ]
     },
     "execution_count": 9,
     "metadata": {},
     "output_type": "execute_result"
    }
   ],
   "source": [
    "model.fit(x_train, y_train,\n",
    "          batch_size=256,\n",
    "          epochs=50,\n",
    "          verbose=2,\n",
    "          validation_data=(x_test, y_test))"
   ]
  },
  {
   "cell_type": "code",
   "execution_count": 10,
   "metadata": {},
   "outputs": [
    {
     "name": "stdout",
     "output_type": "stream",
     "text": [
      "Accuracy: 72.25%\n"
     ]
    }
   ],
   "source": [
    "scores = model.evaluate(x_test, y_test, verbose=0)\n",
    "print(\"Accuracy: %.2f%%\" % (scores[1]*100))"
   ]
  },
  {
   "cell_type": "markdown",
   "metadata": {},
   "source": [
    "# CNN"
   ]
  },
  {
   "cell_type": "code",
   "execution_count": 11,
   "metadata": {},
   "outputs": [],
   "source": [
    "def load_data(vfold_ratio=0.2, max_items_per_class= 5000 ):\n",
    "    all_files = glob.glob(os.path.join(\"./data/\", '*.npy'))\n",
    "\n",
    "    #initialize variables \n",
    "    x = np.empty([0, 784])\n",
    "    y = np.empty([0])\n",
    "    class_names = []\n",
    "\n",
    "    #load a subset of the data to memory \n",
    "    for idx, file in enumerate(all_files):\n",
    "        data = np.load(file)\n",
    "        data = data[0: max_items_per_class, :]\n",
    "        labels = np.full(data.shape[0], idx)\n",
    "\n",
    "        x = np.concatenate((x, data), axis=0)\n",
    "        y = np.append(y, labels)\n",
    "\n",
    "        class_name, ext = os.path.splitext(os.path.basename(file))\n",
    "        class_names.append(class_name)\n",
    "\n",
    "    data = None\n",
    "    labels = None\n",
    "\n",
    "    #separate into training and testing \n",
    "    permutation = np.random.permutation(y.shape[0])\n",
    "    x = x[permutation, :]\n",
    "    y = y[permutation]\n",
    "\n",
    "    vfold_size = int(x.shape[0]/100*(vfold_ratio*100))\n",
    "\n",
    "    x_test = x[0:vfold_size, :]\n",
    "    y_test = y[0:vfold_size]\n",
    "\n",
    "    x_train = x[vfold_size:x.shape[0], :]\n",
    "    y_train = y[vfold_size:y.shape[0]]\n",
    "    \n",
    "#     print(x_train)\n",
    "    return x_train, y_train, x_test, y_test, class_names"
   ]
  },
  {
   "cell_type": "code",
   "execution_count": 12,
   "metadata": {},
   "outputs": [],
   "source": [
    "x_train, y_train, x_test, y_test, class_names = load_data()\n",
    "num_classes = len(class_names)\n",
    "image_size = 28"
   ]
  },
  {
   "cell_type": "code",
   "execution_count": 13,
   "metadata": {},
   "outputs": [
    {
     "name": "stdout",
     "output_type": "stream",
     "text": [
      "car\n"
     ]
    },
    {
     "data": {
      "image/png": "[encoded data removed]",
      "text/plain": [
       "<matplotlib.figure.Figure at 0x2abf7a836e48>"
      ]
     },
     "metadata": {},
     "output_type": "display_data"
    }
   ],
   "source": [
    "import matplotlib.pyplot as plt\n",
    "from random import randint\n",
    "%matplotlib inline  \n",
    "idx = randint(0, len(x_train))\n",
    "plt.imshow(x_train[idx].reshape(28,28)) \n",
    "print(class_names[int(y_train[idx].item())])"
   ]
  },
  {
   "cell_type": "code",
   "execution_count": 14,
   "metadata": {},
   "outputs": [],
   "source": [
    "# Reshape and normalize\n",
    "x_train = x_train.reshape(x_train.shape[0], image_size, image_size, 1).astype('float32')\n",
    "x_test = x_test.reshape(x_test.shape[0], image_size, image_size, 1).astype('float32')\n",
    "\n",
    "x_train /= 255.0\n",
    "x_test /= 255.0\n",
    "\n",
    "# Convert class vectors to class matrices\n",
    "y_train = keras.utils.to_categorical(y_train, num_classes)\n",
    "y_test = keras.utils.to_categorical(y_test, num_classes)"
   ]
  },
  {
   "cell_type": "code",
   "execution_count": 15,
   "metadata": {},
   "outputs": [],
   "source": [
    "from keras.models import Sequential\n",
    "from keras.layers import Dense, Dropout, Activation, Flatten\n",
    "from keras.layers import Convolution2D, MaxPooling2D\n",
    "from keras.layers.convolutional import ZeroPadding2D\n",
    "from keras.utils import np_utils\n",
    "from keras.models import load_model"
   ]
  },
  {
   "cell_type": "code",
   "execution_count": 27,
   "metadata": {},
   "outputs": [
    {
     "name": "stdout",
     "output_type": "stream",
     "text": [
      "_________________________________________________________________\n",
      "Layer (type)                 Output Shape              Param #   \n",
      "=================================================================\n",
      "conv2d_32 (Conv2D)           (None, 28, 28, 16)        160       \n",
      "_________________________________________________________________\n",
      "max_pooling2d_32 (MaxPooling (None, 14, 14, 16)        0         \n",
      "_________________________________________________________________\n",
      "conv2d_33 (Conv2D)           (None, 14, 14, 32)        4640      \n",
      "_________________________________________________________________\n",
      "max_pooling2d_33 (MaxPooling (None, 7, 7, 32)          0         \n",
      "_________________________________________________________________\n",
      "conv2d_34 (Conv2D)           (None, 7, 7, 64)          18496     \n",
      "_________________________________________________________________\n",
      "max_pooling2d_34 (MaxPooling (None, 3, 3, 64)          0         \n",
      "_________________________________________________________________\n",
      "conv2d_35 (Conv2D)           (None, 3, 3, 128)         73856     \n",
      "_________________________________________________________________\n",
      "max_pooling2d_35 (MaxPooling (None, 1, 1, 128)         0         \n",
      "_________________________________________________________________\n",
      "flatten_4 (Flatten)          (None, 128)               0         \n",
      "_________________________________________________________________\n",
      "dense_8 (Dense)              (None, 256)               33024     \n",
      "_________________________________________________________________\n",
      "dense_9 (Dense)              (None, 30)                7710      \n",
      "=================================================================\n",
      "Total params: 137,886\n",
      "Trainable params: 137,886\n",
      "Non-trainable params: 0\n",
      "_________________________________________________________________\n",
      "None\n"
     ]
    }
   ],
   "source": [
    "# Define model\n",
    "model = Sequential()\n",
    "model.add(layers.Convolution2D(16, (3, 3),\n",
    "                        padding='same',\n",
    "                        input_shape=x_train.shape[1:], activation='relu'))\n",
    "model.add(layers.MaxPooling2D(pool_size=(2, 2)))\n",
    "model.add(layers.Convolution2D(32, (3, 3), padding='same', activation= 'relu'))\n",
    "model.add(layers.MaxPooling2D(pool_size=(2, 2)))\n",
    "model.add(layers.Convolution2D(64, (3, 3), padding='same', activation= 'relu'))\n",
    "model.add(layers.MaxPooling2D(pool_size=(2, 2)))\n",
    "model.add(layers.Convolution2D(128, (3, 3), padding='same', activation= 'relu'))\n",
    "model.add(layers.MaxPooling2D(pool_size =(2,2)))\n",
    "model.add(layers.Flatten())\n",
    "model.add(layers.Dense(256, activation='relu'))\n",
    "model.add(layers.Dense(num_classes, activation='softmax')) \n",
    "# Train model\n",
    "adam = tf.train.AdamOptimizer()\n",
    "model.compile(loss='categorical_crossentropy',\n",
    "              optimizer=adam,\n",
    "              metrics=['top_k_categorical_accuracy'])\n",
    "print(model.summary())"
   ]
  },
  {
   "cell_type": "code",
   "execution_count": 23,
   "metadata": {},
   "outputs": [
    {
     "name": "stdout",
     "output_type": "stream",
     "text": [
      "Train on 120000 samples, validate on 30000 samples\n",
      "Epoch 1/50\n",
      "4s - loss: 1.3616 - top_k_categorical_accuracy: 0.8746 - val_loss: 0.8584 - val_top_k_categorical_accuracy: 0.9442\n",
      "Epoch 2/50\n",
      "3s - loss: 0.7268 - top_k_categorical_accuracy: 0.9544 - val_loss: 0.6738 - val_top_k_categorical_accuracy: 0.9576\n",
      "Epoch 3/50\n",
      "3s - loss: 0.5851 - top_k_categorical_accuracy: 0.9641 - val_loss: 0.6086 - val_top_k_categorical_accuracy: 0.9602\n",
      "Epoch 4/50\n",
      "3s - loss: 0.5088 - top_k_categorical_accuracy: 0.9692 - val_loss: 0.5362 - val_top_k_categorical_accuracy: 0.9661\n",
      "Epoch 5/50\n",
      "3s - loss: 0.4583 - top_k_categorical_accuracy: 0.9723 - val_loss: 0.5093 - val_top_k_categorical_accuracy: 0.9675\n",
      "Epoch 6/50\n",
      "3s - loss: 0.4173 - top_k_categorical_accuracy: 0.9755 - val_loss: 0.4937 - val_top_k_categorical_accuracy: 0.9684\n",
      "Epoch 7/50\n",
      "3s - loss: 0.3849 - top_k_categorical_accuracy: 0.9772 - val_loss: 0.4800 - val_top_k_categorical_accuracy: 0.9693\n",
      "Epoch 8/50\n",
      "3s - loss: 0.3613 - top_k_categorical_accuracy: 0.9791 - val_loss: 0.4574 - val_top_k_categorical_accuracy: 0.9709\n",
      "Epoch 9/50\n",
      "3s - loss: 0.3331 - top_k_categorical_accuracy: 0.9810 - val_loss: 0.4519 - val_top_k_categorical_accuracy: 0.9705\n",
      "Epoch 10/50\n",
      "3s - loss: 0.3146 - top_k_categorical_accuracy: 0.9826 - val_loss: 0.4508 - val_top_k_categorical_accuracy: 0.9710\n",
      "Epoch 11/50\n",
      "3s - loss: 0.2945 - top_k_categorical_accuracy: 0.9835 - val_loss: 0.4471 - val_top_k_categorical_accuracy: 0.9704\n",
      "Epoch 12/50\n",
      "3s - loss: 0.2783 - top_k_categorical_accuracy: 0.9853 - val_loss: 0.4686 - val_top_k_categorical_accuracy: 0.9703\n",
      "Epoch 13/50\n",
      "3s - loss: 0.2613 - top_k_categorical_accuracy: 0.9864 - val_loss: 0.4603 - val_top_k_categorical_accuracy: 0.9702\n",
      "Epoch 14/50\n",
      "3s - loss: 0.2463 - top_k_categorical_accuracy: 0.9881 - val_loss: 0.4569 - val_top_k_categorical_accuracy: 0.9706\n",
      "Epoch 15/50\n",
      "3s - loss: 0.2284 - top_k_categorical_accuracy: 0.9889 - val_loss: 0.5040 - val_top_k_categorical_accuracy: 0.9703\n",
      "Epoch 16/50\n",
      "3s - loss: 0.2111 - top_k_categorical_accuracy: 0.9901 - val_loss: 0.4890 - val_top_k_categorical_accuracy: 0.9707\n",
      "Epoch 17/50\n",
      "3s - loss: 0.2011 - top_k_categorical_accuracy: 0.9912 - val_loss: 0.4907 - val_top_k_categorical_accuracy: 0.9703\n",
      "Epoch 18/50\n",
      "3s - loss: 0.1852 - top_k_categorical_accuracy: 0.9920 - val_loss: 0.5309 - val_top_k_categorical_accuracy: 0.9680\n",
      "Epoch 19/50\n",
      "3s - loss: 0.1754 - top_k_categorical_accuracy: 0.9931 - val_loss: 0.5248 - val_top_k_categorical_accuracy: 0.9692\n",
      "Epoch 20/50\n",
      "3s - loss: 0.1620 - top_k_categorical_accuracy: 0.9940 - val_loss: 0.5673 - val_top_k_categorical_accuracy: 0.9676\n",
      "Epoch 21/50\n",
      "3s - loss: 0.1490 - top_k_categorical_accuracy: 0.9949 - val_loss: 0.5688 - val_top_k_categorical_accuracy: 0.9682\n",
      "Epoch 22/50\n",
      "3s - loss: 0.1392 - top_k_categorical_accuracy: 0.9953 - val_loss: 0.6004 - val_top_k_categorical_accuracy: 0.9680\n",
      "Epoch 23/50\n",
      "3s - loss: 0.1307 - top_k_categorical_accuracy: 0.9960 - val_loss: 0.5801 - val_top_k_categorical_accuracy: 0.9677\n",
      "Epoch 24/50\n",
      "3s - loss: 0.1230 - top_k_categorical_accuracy: 0.9964 - val_loss: 0.6544 - val_top_k_categorical_accuracy: 0.9671\n",
      "Epoch 25/50\n",
      "3s - loss: 0.1142 - top_k_categorical_accuracy: 0.9970 - val_loss: 0.6349 - val_top_k_categorical_accuracy: 0.9680\n",
      "Epoch 26/50\n",
      "3s - loss: 0.1085 - top_k_categorical_accuracy: 0.9975 - val_loss: 0.7017 - val_top_k_categorical_accuracy: 0.9650\n",
      "Epoch 27/50\n",
      "3s - loss: 0.1007 - top_k_categorical_accuracy: 0.9976 - val_loss: 0.7079 - val_top_k_categorical_accuracy: 0.9664\n",
      "Epoch 28/50\n",
      "3s - loss: 0.0937 - top_k_categorical_accuracy: 0.9980 - val_loss: 0.6856 - val_top_k_categorical_accuracy: 0.9657\n",
      "Epoch 29/50\n",
      "3s - loss: 0.0915 - top_k_categorical_accuracy: 0.9982 - val_loss: 0.7329 - val_top_k_categorical_accuracy: 0.9666\n",
      "Epoch 30/50\n",
      "3s - loss: 0.0854 - top_k_categorical_accuracy: 0.9983 - val_loss: 0.7271 - val_top_k_categorical_accuracy: 0.9675\n",
      "Epoch 31/50\n",
      "3s - loss: 0.0789 - top_k_categorical_accuracy: 0.9987 - val_loss: 0.7777 - val_top_k_categorical_accuracy: 0.9659\n",
      "Epoch 32/50\n",
      "3s - loss: 0.0781 - top_k_categorical_accuracy: 0.9990 - val_loss: 0.8084 - val_top_k_categorical_accuracy: 0.9651\n",
      "Epoch 33/50\n",
      "3s - loss: 0.0742 - top_k_categorical_accuracy: 0.9990 - val_loss: 0.7992 - val_top_k_categorical_accuracy: 0.9659\n",
      "Epoch 34/50\n",
      "3s - loss: 0.0686 - top_k_categorical_accuracy: 0.9990 - val_loss: 0.8240 - val_top_k_categorical_accuracy: 0.9665\n",
      "Epoch 35/50\n",
      "3s - loss: 0.0711 - top_k_categorical_accuracy: 0.9990 - val_loss: 0.8463 - val_top_k_categorical_accuracy: 0.9646\n",
      "Epoch 36/50\n",
      "3s - loss: 0.0616 - top_k_categorical_accuracy: 0.9992 - val_loss: 0.8975 - val_top_k_categorical_accuracy: 0.9655\n",
      "Epoch 37/50\n",
      "3s - loss: 0.0608 - top_k_categorical_accuracy: 0.9993 - val_loss: 0.8783 - val_top_k_categorical_accuracy: 0.9655\n",
      "Epoch 38/50\n",
      "3s - loss: 0.0665 - top_k_categorical_accuracy: 0.9994 - val_loss: 0.9003 - val_top_k_categorical_accuracy: 0.9658\n",
      "Epoch 39/50\n",
      "3s - loss: 0.0574 - top_k_categorical_accuracy: 0.9995 - val_loss: 0.9228 - val_top_k_categorical_accuracy: 0.9651\n",
      "Epoch 40/50\n",
      "3s - loss: 0.0594 - top_k_categorical_accuracy: 0.9996 - val_loss: 0.9354 - val_top_k_categorical_accuracy: 0.9644\n",
      "Epoch 41/50\n",
      "3s - loss: 0.0599 - top_k_categorical_accuracy: 0.9995 - val_loss: 0.9351 - val_top_k_categorical_accuracy: 0.9655\n",
      "Epoch 42/50\n",
      "3s - loss: 0.0553 - top_k_categorical_accuracy: 0.9995 - val_loss: 0.9697 - val_top_k_categorical_accuracy: 0.9634\n",
      "Epoch 43/50\n",
      "3s - loss: 0.0581 - top_k_categorical_accuracy: 0.9996 - val_loss: 0.9529 - val_top_k_categorical_accuracy: 0.9653\n",
      "Epoch 44/50\n",
      "3s - loss: 0.0482 - top_k_categorical_accuracy: 0.9997 - val_loss: 0.9660 - val_top_k_categorical_accuracy: 0.9661\n",
      "Epoch 45/50\n",
      "3s - loss: 0.0491 - top_k_categorical_accuracy: 0.9997 - val_loss: 0.9849 - val_top_k_categorical_accuracy: 0.9658\n",
      "Epoch 46/50\n",
      "3s - loss: 0.0538 - top_k_categorical_accuracy: 0.9997 - val_loss: 0.9594 - val_top_k_categorical_accuracy: 0.9649\n",
      "Epoch 47/50\n",
      "3s - loss: 0.0520 - top_k_categorical_accuracy: 0.9996 - val_loss: 0.9774 - val_top_k_categorical_accuracy: 0.9646\n",
      "Epoch 48/50\n",
      "3s - loss: 0.0437 - top_k_categorical_accuracy: 0.9997 - val_loss: 1.0056 - val_top_k_categorical_accuracy: 0.9646\n",
      "Epoch 49/50\n",
      "3s - loss: 0.0513 - top_k_categorical_accuracy: 0.9997 - val_loss: 1.0064 - val_top_k_categorical_accuracy: 0.9652\n",
      "Epoch 50/50\n",
      "3s - loss: 0.0497 - top_k_categorical_accuracy: 0.9997 - val_loss: 1.0101 - val_top_k_categorical_accuracy: 0.9645\n"
     ]
    },
    {
     "data": {
      "text/plain": [
       "<keras.callbacks.History at 0x2abfb086fc88>"
      ]
     },
     "execution_count": 23,
     "metadata": {},
     "output_type": "execute_result"
    }
   ],
   "source": [
    "model.fit(x_train, y_train,\n",
    "          batch_size=256,\n",
    "          epochs=50,\n",
    "          verbose=2,\n",
    "          validation_data=(x_test, y_test))"
   ]
  },
  {
   "cell_type": "code",
   "execution_count": 24,
   "metadata": {},
   "outputs": [
    {
     "name": "stdout",
     "output_type": "stream",
     "text": [
      "Accuracy: 96.45%\n"
     ]
    }
   ],
   "source": [
    "# Final evaluation of the model\n",
    "scores = model.evaluate(x_test, y_test, verbose=0)\n",
    "print(\"Accuracy: %.2f%%\" % (scores[1]*100))"
   ]
  }
 ],
 "metadata": {
  "kernelspec": {
   "display_name": "Python 3",
   "language": "python",
   "name": "python3"
  },
  "language_info": {
   "codemirror_mode": {
    "name": "ipython",
    "version": 3
   },
   "file_extension": ".py",
   "mimetype": "text/x-python",
   "name": "python",
   "nbconvert_exporter": "python",
   "pygments_lexer": "ipython3",
   "version": "3.6.2"
  }
 },
 "nbformat": 4,
 "nbformat_minor": 2
}
