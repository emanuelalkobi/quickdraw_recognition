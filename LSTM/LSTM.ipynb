{
 "cells": [
  {
   "cell_type": "code",
   "execution_count": 13,
   "metadata": {},
   "outputs": [],
   "source": [
    "import os\n",
    "import glob\n",
    "import numpy as np\n",
    "import keras\n",
    "from keras import *\n",
    "import tensorflow as tf\n",
    "\n",
    "import numpy\n",
    "from keras.datasets import imdb\n",
    "from keras.models import Sequential\n",
    "from keras.layers import Dense\n",
    "from keras.layers import LSTM\n",
    "from keras.layers.embeddings import Embedding\n",
    "from keras.preprocessing import sequence\n",
    "# fix random seed for reproducibility\n",
    "numpy.random.seed(7)"
   ]
  },
  {
   "cell_type": "code",
   "execution_count": 14,
   "metadata": {},
   "outputs": [],
   "source": [
    "def load_data(vfold_ratio=0.2, max_items_per_class= 5000 ):\n",
    "    all_files = glob.glob(os.path.join(\"./data/\", '*.npy'))\n",
    "\n",
    "    #initialize variables \n",
    "    x = np.empty([0, 784])\n",
    "    y = np.empty([0])\n",
    "    class_names = []\n",
    "    iter = 0\n",
    "\n",
    "    #load a subset of the data to memory \n",
    "    for idx, file in enumerate(sorted(all_files)):\n",
    "        data = np.load(file)\n",
    "        data = data[0: max_items_per_class, :]\n",
    "        data=255-data;\n",
    "        labels = np.full(data.shape[0], idx)\n",
    "        print(labels.shape,data.shape,\"cur label num!\",iter+1,file)\n",
    "\n",
    "        x = np.concatenate((x, data), axis=0)\n",
    "        y = np.append(y, labels)\n",
    "\n",
    "    \n",
    "        class_name, ext = os.path.splitext(os.path.basename(file))\n",
    "        class_names.append(class_name)\n",
    "        iter += 1\n",
    "\n",
    "\n",
    "    data = None\n",
    "    labels = None\n",
    "\n",
    "    #separate into training and testing \n",
    "    permutation = np.random.permutation(y.shape[0])\n",
    "    x = x[permutation, :]\n",
    "    y = y[permutation]\n",
    "\n",
    "    vfold_size = int(x.shape[0]/100*(vfold_ratio*100))\n",
    "\n",
    "    x_test = x[0:vfold_size, :]\n",
    "    y_test = y[0:vfold_size]\n",
    "\n",
    "    x_train = x[vfold_size:x.shape[0], :]\n",
    "    y_train = y[vfold_size:y.shape[0]]\n",
    "    \n",
    "#     print(x_train)\n",
    "    return x_train, y_train, x_test, y_test, class_names"
   ]
  },
  {
   "cell_type": "code",
   "execution_count": 15,
   "metadata": {},
   "outputs": [
    {
     "name": "stdout",
     "output_type": "stream",
     "text": [
      "(5000,) (5000, 784) cur label num! 1 ./data/ambulance.npy\n",
      "(5000,) (5000, 784) cur label num! 2 ./data/apple.npy\n",
      "(5000,) (5000, 784) cur label num! 3 ./data/axe.npy\n",
      "(5000,) (5000, 784) cur label num! 4 ./data/basketball.npy\n",
      "(5000,) (5000, 784) cur label num! 5 ./data/bicycle.npy\n",
      "(5000,) (5000, 784) cur label num! 6 ./data/boomerang.npy\n",
      "(5000,) (5000, 784) cur label num! 7 ./data/butterfly.npy\n",
      "(5000,) (5000, 784) cur label num! 8 ./data/car.npy\n",
      "(5000,) (5000, 784) cur label num! 9 ./data/carrot.npy\n",
      "(5000,) (5000, 784) cur label num! 10 ./data/cat.npy\n",
      "(5000,) (5000, 784) cur label num! 11 ./data/chair.npy\n",
      "(5000,) (5000, 784) cur label num! 12 ./data/clock.npy\n",
      "(5000,) (5000, 784) cur label num! 13 ./data/cookie.npy\n",
      "(5000,) (5000, 784) cur label num! 14 ./data/cup.npy\n",
      "(5000,) (5000, 784) cur label num! 15 ./data/donut.npy\n",
      "(5000,) (5000, 784) cur label num! 16 ./data/envelope.npy\n",
      "(5000,) (5000, 784) cur label num! 17 ./data/flower.npy\n",
      "(5000,) (5000, 784) cur label num! 18 ./data/key.npy\n",
      "(5000,) (5000, 784) cur label num! 19 ./data/knife.npy\n",
      "(5000,) (5000, 784) cur label num! 20 ./data/lightning.npy\n",
      "(5000,) (5000, 784) cur label num! 21 ./data/pencil.npy\n",
      "(5000,) (5000, 784) cur label num! 22 ./data/pizza.npy\n",
      "(5000,) (5000, 784) cur label num! 23 ./data/rainbow.npy\n",
      "(5000,) (5000, 784) cur label num! 24 ./data/snake.npy\n",
      "(5000,) (5000, 784) cur label num! 25 ./data/spider.npy\n",
      "(5000,) (5000, 784) cur label num! 26 ./data/star.npy\n",
      "(5000,) (5000, 784) cur label num! 27 ./data/tractor.npy\n",
      "(5000,) (5000, 784) cur label num! 28 ./data/tree.npy\n",
      "(5000,) (5000, 784) cur label num! 29 ./data/whale.npy\n",
      "(5000,) (5000, 784) cur label num! 30 ./data/windmill.npy\n"
     ]
    }
   ],
   "source": [
    "Xtrain, Ytrain, Xtest, Ytest, class_names = load_data()\n",
    "num_classes = len(class_names)\n",
    "image_size = 28"
   ]
  },
  {
   "cell_type": "code",
   "execution_count": 16,
   "metadata": {},
   "outputs": [
    {
     "name": "stdout",
     "output_type": "stream",
     "text": [
      "basketball\n"
     ]
    },
    {
     "data": {
      "image/png": "[encoded data removed]",
      "text/plain": [
       "<matplotlib.figure.Figure at 0x2adbc66083c8>"
      ]
     },
     "metadata": {},
     "output_type": "display_data"
    }
   ],
   "source": [
    "import matplotlib.pyplot as plt\n",
    "from random import randint\n",
    "%matplotlib inline  \n",
    "idx = randint(0, len(Xtrain))\n",
    "plt.imshow(Xtrain[idx].reshape(28,28)) \n",
    "print(class_names[int(Ytrain[idx].item())])"
   ]
  },
  {
   "cell_type": "code",
   "execution_count": 17,
   "metadata": {},
   "outputs": [],
   "source": [
    "# Reshape and normalize\n",
    "x_train = Xtrain.reshape(Xtrain.shape[0], image_size, image_size).astype('float32')\n",
    "x_test = Xtest.reshape(Xtest.shape[0], image_size, image_size).astype('float32')\n",
    "\n",
    "x_train /= 255.0\n",
    "x_test /= 255.0\n",
    "\n",
    "# Convert class vectors to class matrices\n",
    "y_train = keras.utils.to_categorical(Ytrain, num_classes)\n",
    "y_test = keras.utils.to_categorical(Ytest, num_classes)"
   ]
  },
  {
   "cell_type": "code",
   "execution_count": 18,
   "metadata": {},
   "outputs": [],
   "source": [
    "#x_train = np.array(Xtrain).reshape((-1, 28, 28))\n",
    "#x_test = np.array(Xtest).reshape((-1, 28, 28))"
   ]
  },
  {
   "cell_type": "code",
   "execution_count": 20,
   "metadata": {},
   "outputs": [
    {
     "name": "stdout",
     "output_type": "stream",
     "text": [
      "_________________________________________________________________\n",
      "Layer (type)                 Output Shape              Param #   \n",
      "=================================================================\n",
      "lstm_3 (LSTM)                (None, 256)               291840    \n",
      "_________________________________________________________________\n",
      "dense_3 (Dense)              (None, 30)                7710      \n",
      "=================================================================\n",
      "Total params: 299,550\n",
      "Trainable params: 299,550\n",
      "Non-trainable params: 0\n",
      "_________________________________________________________________\n",
      "None\n"
     ]
    }
   ],
   "source": [
    "model = Sequential()\n",
    "model.add(LSTM(256, input_shape=(x_train.shape[1], x_train.shape[2])))\n",
    "model.add(Dense(30,activation='sigmoid'))\n",
    "model.compile(loss='categorical_crossentropy', optimizer='adam', metrics=['accuracy'])\n",
    "print(model.summary())"
   ]
  },
  {
   "cell_type": "code",
   "execution_count": 21,
   "metadata": {},
   "outputs": [
    {
     "name": "stdout",
     "output_type": "stream",
     "text": [
      "Train on 120000 samples, validate on 30000 samples\n",
      "Epoch 1/50\n",
      "120000/120000 [==============================] - 26s - loss: 1.8557 - acc: 0.4492 - val_loss: 1.3638 - val_acc: 0.5952\n",
      "Epoch 2/50\n",
      "120000/120000 [==============================] - 24s - loss: 1.1908 - acc: 0.6485 - val_loss: 1.0891 - val_acc: 0.6818\n",
      "Epoch 3/50\n",
      "120000/120000 [==============================] - 24s - loss: 1.0053 - acc: 0.7030 - val_loss: 0.9472 - val_acc: 0.7260\n",
      "Epoch 4/50\n",
      "120000/120000 [==============================] - 25s - loss: 0.8852 - acc: 0.7405 - val_loss: 0.8812 - val_acc: 0.7410\n",
      "Epoch 5/50\n",
      "120000/120000 [==============================] - 24s - loss: 0.7938 - acc: 0.7670 - val_loss: 0.7888 - val_acc: 0.7724\n",
      "Epoch 6/50\n",
      "120000/120000 [==============================] - 25s - loss: 0.7232 - acc: 0.7866 - val_loss: 0.7383 - val_acc: 0.7839\n",
      "Epoch 7/50\n",
      "120000/120000 [==============================] - 24s - loss: 0.6639 - acc: 0.8030 - val_loss: 0.7046 - val_acc: 0.7962\n",
      "Epoch 8/50\n",
      "120000/120000 [==============================] - 25s - loss: 0.6189 - acc: 0.8178 - val_loss: 0.6816 - val_acc: 0.8009\n",
      "Epoch 9/50\n",
      "120000/120000 [==============================] - 25s - loss: 0.5810 - acc: 0.8284 - val_loss: 0.6730 - val_acc: 0.8051\n",
      "Epoch 10/50\n",
      "120000/120000 [==============================] - 24s - loss: 0.5453 - acc: 0.8379 - val_loss: 0.6506 - val_acc: 0.8127\n",
      "Epoch 11/50\n",
      "120000/120000 [==============================] - 24s - loss: 0.5120 - acc: 0.8475 - val_loss: 0.6275 - val_acc: 0.8214\n",
      "Epoch 12/50\n",
      "120000/120000 [==============================] - 24s - loss: 0.4821 - acc: 0.8569 - val_loss: 0.6242 - val_acc: 0.8247\n",
      "Epoch 13/50\n",
      "120000/120000 [==============================] - 24s - loss: 0.4589 - acc: 0.8625 - val_loss: 0.6204 - val_acc: 0.8268\n",
      "Epoch 14/50\n",
      "120000/120000 [==============================] - 23s - loss: 0.4335 - acc: 0.8702 - val_loss: 0.6264 - val_acc: 0.8225\n",
      "Epoch 15/50\n",
      "120000/120000 [==============================] - 24s - loss: 0.4076 - acc: 0.8787 - val_loss: 0.6203 - val_acc: 0.8281\n",
      "Epoch 16/50\n",
      "120000/120000 [==============================] - 25s - loss: 0.3838 - acc: 0.8841 - val_loss: 0.6217 - val_acc: 0.8312\n",
      "Epoch 17/50\n",
      "120000/120000 [==============================] - 24s - loss: 0.3609 - acc: 0.8906 - val_loss: 0.6163 - val_acc: 0.8304\n",
      "Epoch 18/50\n",
      "120000/120000 [==============================] - 25s - loss: 0.3385 - acc: 0.8970 - val_loss: 0.6295 - val_acc: 0.8306\n",
      "Epoch 19/50\n",
      "120000/120000 [==============================] - 24s - loss: 0.3212 - acc: 0.9028 - val_loss: 0.6276 - val_acc: 0.8302\n",
      "Epoch 20/50\n",
      "120000/120000 [==============================] - 24s - loss: 0.2981 - acc: 0.9088 - val_loss: 0.6324 - val_acc: 0.8326\n",
      "Epoch 21/50\n",
      "120000/120000 [==============================] - 24s - loss: 0.2760 - acc: 0.9152 - val_loss: 0.6442 - val_acc: 0.8321\n",
      "Epoch 22/50\n",
      "120000/120000 [==============================] - 24s - loss: 0.2586 - acc: 0.9209 - val_loss: 0.6343 - val_acc: 0.8352\n",
      "Epoch 23/50\n",
      "120000/120000 [==============================] - 24s - loss: 0.2447 - acc: 0.9245 - val_loss: 0.6574 - val_acc: 0.8324\n",
      "Epoch 24/50\n",
      "120000/120000 [==============================] - 24s - loss: 0.2258 - acc: 0.9307 - val_loss: 0.6698 - val_acc: 0.8335\n",
      "Epoch 25/50\n",
      "120000/120000 [==============================] - 25s - loss: 0.2101 - acc: 0.9342 - val_loss: 0.6968 - val_acc: 0.8294\n",
      "Epoch 26/50\n",
      "120000/120000 [==============================] - 24s - loss: 0.1939 - acc: 0.9394 - val_loss: 0.7119 - val_acc: 0.8284\n",
      "Epoch 27/50\n",
      "120000/120000 [==============================] - 24s - loss: 0.1818 - acc: 0.9429 - val_loss: 0.7353 - val_acc: 0.8277\n",
      "Epoch 28/50\n",
      "120000/120000 [==============================] - 24s - loss: 0.1706 - acc: 0.9465 - val_loss: 0.7477 - val_acc: 0.8264\n",
      "Epoch 29/50\n",
      "120000/120000 [==============================] - 24s - loss: 0.1567 - acc: 0.9507 - val_loss: 0.7528 - val_acc: 0.8257\n",
      "Epoch 30/50\n",
      "120000/120000 [==============================] - 24s - loss: 0.1429 - acc: 0.9557 - val_loss: 0.7639 - val_acc: 0.8296\n",
      "Epoch 31/50\n",
      "120000/120000 [==============================] - 24s - loss: 0.1401 - acc: 0.9557 - val_loss: 0.7954 - val_acc: 0.8256\n",
      "Epoch 32/50\n",
      "120000/120000 [==============================] - 25s - loss: 0.1291 - acc: 0.9598 - val_loss: 0.8039 - val_acc: 0.8247\n",
      "Epoch 33/50\n",
      "120000/120000 [==============================] - 24s - loss: 0.1248 - acc: 0.9605 - val_loss: 0.8039 - val_acc: 0.8280\n",
      "Epoch 34/50\n",
      "120000/120000 [==============================] - 25s - loss: 0.1162 - acc: 0.9633 - val_loss: 0.8379 - val_acc: 0.8246\n",
      "Epoch 35/50\n",
      "120000/120000 [==============================] - 24s - loss: 0.1098 - acc: 0.9650 - val_loss: 0.8273 - val_acc: 0.8255\n",
      "Epoch 36/50\n",
      "120000/120000 [==============================] - 24s - loss: 0.1082 - acc: 0.9657 - val_loss: 0.8613 - val_acc: 0.8223\n",
      "Epoch 37/50\n",
      "120000/120000 [==============================] - 25s - loss: 0.1001 - acc: 0.9683 - val_loss: 0.8886 - val_acc: 0.8231\n",
      "Epoch 38/50\n",
      "120000/120000 [==============================] - 25s - loss: 0.0999 - acc: 0.9680 - val_loss: 0.8790 - val_acc: 0.8248\n",
      "Epoch 39/50\n",
      "120000/120000 [==============================] - 25s - loss: 0.0891 - acc: 0.9720 - val_loss: 0.8852 - val_acc: 0.8226\n",
      "Epoch 40/50\n",
      "120000/120000 [==============================] - 24s - loss: 0.0902 - acc: 0.9716 - val_loss: 0.9209 - val_acc: 0.8237\n",
      "Epoch 41/50\n",
      "120000/120000 [==============================] - 24s - loss: 0.0798 - acc: 0.9746 - val_loss: 0.9371 - val_acc: 0.8228\n",
      "Epoch 42/50\n",
      "120000/120000 [==============================] - 24s - loss: 0.0838 - acc: 0.9732 - val_loss: 0.9667 - val_acc: 0.8210\n",
      "Epoch 43/50\n",
      "120000/120000 [==============================] - 25s - loss: 0.0890 - acc: 0.9713 - val_loss: 0.9214 - val_acc: 0.8249\n",
      "Epoch 44/50\n",
      "120000/120000 [==============================] - 25s - loss: 0.0728 - acc: 0.9776 - val_loss: 0.9340 - val_acc: 0.8249\n",
      "Epoch 45/50\n",
      "120000/120000 [==============================] - 25s - loss: 0.0730 - acc: 0.9768 - val_loss: 0.9632 - val_acc: 0.8254\n",
      "Epoch 46/50\n",
      "120000/120000 [==============================] - 25s - loss: 0.0792 - acc: 0.9745 - val_loss: 0.9602 - val_acc: 0.8245\n",
      "Epoch 47/50\n",
      "120000/120000 [==============================] - 24s - loss: 0.0731 - acc: 0.9766 - val_loss: 0.9796 - val_acc: 0.8230\n",
      "Epoch 48/50\n",
      "120000/120000 [==============================] - 25s - loss: 0.0657 - acc: 0.9788 - val_loss: 0.9801 - val_acc: 0.8263\n",
      "Epoch 49/50\n",
      "120000/120000 [==============================] - 24s - loss: 0.0651 - acc: 0.9792 - val_loss: 0.9787 - val_acc: 0.8233\n",
      "Epoch 50/50\n",
      "120000/120000 [==============================] - 24s - loss: 0.0707 - acc: 0.9770 - val_loss: 0.9946 - val_acc: 0.8196\n",
      "29952/30000 [============================>.] - ETA: 0sTest accuracy: 0.8196333333015442\n"
     ]
    }
   ],
   "source": [
    "model.fit(x_train, y_train,\n",
    "          batch_size=256,\n",
    "          epochs=50,\n",
    "          validation_data=(x_test, y_test))\n",
    "acc = model.evaluate(x_test, y_test,batch_size=256)\n",
    "print('Test accuracy:', acc[1])"
   ]
  },
  {
   "cell_type": "code",
   "execution_count": 26,
   "metadata": {},
   "outputs": [
    {
     "name": "stdout",
     "output_type": "stream",
     "text": [
      "['cup', 'boomerang', 'knife', 'whale', 'axe']\n"
     ]
    },
    {
     "data": {
      "image/png": "[encoded data removed]",
      "text/plain": [
       "<matplotlib.figure.Figure at 0x2ad82e49b400>"
      ]
     },
     "metadata": {},
     "output_type": "display_data"
    }
   ],
   "source": [
    "import matplotlib.pyplot as plt\n",
    "from random import randint\n",
    "%matplotlib inline  \n",
    "idx = randint(0, len(x_test))\n",
    "img = x_test[idx]\n",
    "plt.imshow(img.squeeze()) \n",
    "pred = model.predict(np.expand_dims(img, axis=0))[0]\n",
    "ind = (-pred).argsort()[:5]\n",
    "latex = [class_names[x] for x in ind]\n",
    "print(latex)"
   ]
  },
  {
   "cell_type": "code",
   "execution_count": 27,
   "metadata": {},
   "outputs": [],
   "source": [
    "model.save('lstm.h5')"
   ]
  },
  {
   "cell_type": "code",
   "execution_count": null,
   "metadata": {},
   "outputs": [],
   "source": []
  }
 ],
 "metadata": {
  "kernelspec": {
   "display_name": "Python 3",
   "language": "python",
   "name": "python3"
  },
  "language_info": {
   "codemirror_mode": {
    "name": "ipython",
    "version": 3
   },
   "file_extension": ".py",
   "mimetype": "text/x-python",
   "name": "python",
   "nbconvert_exporter": "python",
   "pygments_lexer": "ipython3",
   "version": "3.6.2"
  }
 },
 "nbformat": 4,
 "nbformat_minor": 2
}
